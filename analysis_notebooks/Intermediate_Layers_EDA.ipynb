{
 "cells": [
  {
   "cell_type": "code",
   "execution_count": 2,
   "id": "792f0775-201f-447a-8037-ef7dec28ffa2",
   "metadata": {},
   "outputs": [
    {
     "name": "stderr",
     "output_type": "stream",
     "text": [
      "/home/vscode/.local/lib/python3.12/site-packages/tqdm/auto.py:21: TqdmWarning: IProgress not found. Please update jupyter and ipywidgets. See https://ipywidgets.readthedocs.io/en/stable/user_install.html\n",
      "  from .autonotebook import tqdm as notebook_tqdm\n"
     ]
    }
   ],
   "source": [
    "import torch\n",
    "import os\n",
    "import segmentation_models_pytorch as smp\n",
    "from segmentation_models_pytorch.metrics import get_stats, iou_score\n",
    "from utils.utils import display_image_and_mask\n",
    "from utils.data_loading import TomatoLeafDataset\n",
    "from unet.model import TomatoLeafModel\n",
    "from torchviz import make_dot\n",
    "\n",
    "DIR = \"data/\"\n",
    "models_list = os.listdir(\"model_checkpoint\") # WE DON\"T HAVE THIS IN GITHUB, DOWNLOAD IT FROM GDOCS\n",
    "model_ckpt_file = models_list[-1]\n",
    "\n",
    "# Load the model\n",
    "model = TomatoLeafModel()\n",
    "weights = torch.load(\"model_checkpoint/\" + model_ckpt_file, weights_only=True)\n",
    "model.load_state_dict(weights)\n",
    "model.to(\"cpu\")\n",
    "model.train(True)\n",
    "\n",
    "# Load the dataset\n",
    "test_loader = TomatoLeafDataset(DIR + \"test.csv\", DIR + \"test\")\n",
    "train_loader = TomatoLeafDataset(DIR + \"train.csv\", DIR + \"train\")\n",
    "image = train_loader[0]['image'].unsqueeze(0)\n",
    "mask = train_loader[0]['mask'].unsqueeze(0)"
   ]
  },
  {
   "cell_type": "markdown",
   "id": "1a519417",
   "metadata": {},
   "source": [
    "# EDA\n",
    "\n",
    "I have the model architecture in a file called 'model_architecture.txt', it should tell you the name of the layers and how to access it."
   ]
  },
  {
   "cell_type": "code",
   "execution_count": 3,
   "id": "e9155627-eaf2-4b2b-9b94-cb80d0c1933f",
   "metadata": {},
   "outputs": [],
   "source": [
    "loss_fn = smp.losses.JaccardLoss(smp.losses.BINARY_MODE, from_logits=True, log_loss=False)"
   ]
  },
  {
   "cell_type": "code",
   "execution_count": 4,
   "id": "b6e33305-8372-4337-a2fd-e205bbf25dde",
   "metadata": {},
   "outputs": [
    {
     "data": {
      "text/plain": [
       "'model_graph.png'"
      ]
     },
     "execution_count": 4,
     "metadata": {},
     "output_type": "execute_result"
    }
   ],
   "source": [
    "output = model(image)\n",
    "loss = loss_fn(output, mask)\n",
    "loss.backward()\n",
    "graph = make_dot(loss, params=dict(model.named_parameters()))\n",
    "graph.render(\"model_graph\", format=\"png\") "
   ]
  },
  {
   "cell_type": "code",
   "execution_count": null,
   "id": "d6822abd-690e-4fc6-b302-741a243a6024",
   "metadata": {},
   "outputs": [],
   "source": []
  }
 ],
 "metadata": {
  "kernelspec": {
   "display_name": "Python 3 (ipykernel)",
   "language": "python",
   "name": "python3"
  },
  "language_info": {
   "codemirror_mode": {
    "name": "ipython",
    "version": 3
   },
   "file_extension": ".py",
   "mimetype": "text/x-python",
   "name": "python",
   "nbconvert_exporter": "python",
   "pygments_lexer": "ipython3",
   "version": "3.12.6"
  }
 },
 "nbformat": 4,
 "nbformat_minor": 5
}
