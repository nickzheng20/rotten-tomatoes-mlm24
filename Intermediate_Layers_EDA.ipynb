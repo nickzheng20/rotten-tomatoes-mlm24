{
 "cells": [
  {
   "cell_type": "code",
   "execution_count": 2,
   "id": "792f0775-201f-447a-8037-ef7dec28ffa2",
   "metadata": {},
   "outputs": [],
   "source": [
    "import torch\n",
    "import os\n",
    "from segmentation_models_pytorch.metrics import get_stats, iou_score\n",
    "from utils.utils import display_image_and_mask\n",
    "from utils.data_loading import TomatoLeafDataset\n",
    "from unet.model import TomatoLeafModel\n",
    "\n",
    "DIR = \"data/\"\n",
    "models_list = os.listdir(\"model_checkpoint\") # WE DON\"T HAVE THIS IN GITHUB, DOWNLOAD IT FROM GDOCS\n",
    "model_ckpt_file = models_list[-1]\n",
    "\n",
    "# Load the model\n",
    "model = TomatoLeafModel()\n",
    "weights = torch.load(\"model_checkpoint/\" + model_ckpt_file, weights_only=True)\n",
    "model.load_state_dict(weights)\n",
    "model.to(\"cpu\")\n",
    "model.eval()\n",
    "\n",
    "# Load the dataset\n",
    "test_loader = TomatoLeafDataset(DIR + \"test.csv\", DIR + \"test\")\n",
    "train_loader = TomatoLeafDataset(DIR + \"train.csv\", DIR + \"train\")\n",
    "image = test_loader[0]['image'].unsqueeze(0)\n",
    "image = image"
   ]
  },
  {
   "cell_type": "markdown",
   "id": "1a519417",
   "metadata": {},
   "source": [
    "# EDA\n",
    "\n",
    "I have the model architecture in a file called 'model_architecture.txt', it should tell you the name of the layers and how to access it."
   ]
  },
  {
   "cell_type": "markdown",
   "id": "9ded306c",
   "metadata": {},
   "source": []
  }
 ],
 "metadata": {
  "kernelspec": {
   "display_name": "Python 3 (ipykernel)",
   "language": "python",
   "name": "python3"
  },
  "language_info": {
   "codemirror_mode": {
    "name": "ipython",
    "version": 3
   },
   "file_extension": ".py",
   "mimetype": "text/x-python",
   "name": "python",
   "nbconvert_exporter": "python",
   "pygments_lexer": "ipython3",
   "version": "3.12.6"
  }
 },
 "nbformat": 4,
 "nbformat_minor": 5
}
