{
 "cells": [
  {
   "cell_type": "code",
   "execution_count": 1,
   "id": "5813aaa3-f020-4e5c-9a12-cc9a24dd7bbb",
   "metadata": {},
   "outputs": [],
   "source": [
    "import pickle\n",
    "import os\n",
    "import torch\n",
    "\n",
    "files = os.listdir(\"grads\")\n",
    "files = [f for f in files if f not in ['Grads.ipynb', '.ipynb_checkpoints']]\n",
    "grad_dict = {}\n",
    "for i, g in enumerate(files):\n",
    "    with open(f'grads/{g}', 'rb') as file:\n",
    "        grad = pickle.load(file)\n",
    "\n",
    "    for name, layer in grad.items():\n",
    "        if i == 0:\n",
    "            grad_dict[f'{name}'] = [grad[f'{name}'].unsqueeze(0)]\n",
    "        else:\n",
    "            grad_dict[f'{name}'].append(grad[f'{name}'].unsqueeze(0))\n",
    "            \n",
    "for name, grad in grad_dict.items():\n",
    "    grad_dict[f'{name}'] = torch.cat(grad)"
   ]
  },
  {
   "cell_type": "code",
   "execution_count": 2,
   "id": "2c1fd167-7d8f-49a4-ad66-cf7a888a6763",
   "metadata": {},
   "outputs": [
    {
     "name": "stderr",
     "output_type": "stream",
     "text": [
      "/home/vscode/.local/lib/python3.12/site-packages/tqdm/auto.py:21: TqdmWarning: IProgress not found. Please update jupyter and ipywidgets. See https://ipywidgets.readthedocs.io/en/stable/user_install.html\n",
      "  from .autonotebook import tqdm as notebook_tqdm\n"
     ]
    }
   ],
   "source": [
    "import torch\n",
    "import os\n",
    "from segmentation_models_pytorch.metrics import get_stats, iou_score\n",
    "from utils.utils import display_image_and_mask\n",
    "from utils.data_loading import TomatoLeafDataset\n",
    "from unet.model import TomatoLeafModel\n",
    "\n",
    "DIR = \"data/\"\n",
    "\n",
    "# Load the dataset\n",
    "test_loader = TomatoLeafDataset(DIR + \"test.csv\", DIR + \"test\")\n",
    "train_loader = TomatoLeafDataset(DIR + \"train.csv\", DIR + \"train\")\n",
    "image = train_loader[0]['image'].unsqueeze(0)"
   ]
  },
  {
   "cell_type": "code",
   "execution_count": 3,
   "id": "a507737c-81c0-4c86-aedc-8d3c4bf5c5c0",
   "metadata": {},
   "outputs": [],
   "source": [
    "def nfm(weight):\n",
    "    return torch.inner(weight.flatten(start_dim=1), weight.flatten(start_dim=1))"
   ]
  },
  {
   "cell_type": "code",
   "execution_count": 21,
   "id": "f691d487-b44d-4d70-897c-d25abb7e11b1",
   "metadata": {},
   "outputs": [
    {
     "name": "stdout",
     "output_type": "stream",
     "text": [
      "0\n",
      "torch.Size([1, 1, 80, 49])\n",
      "1\n"
     ]
    },
    {
     "ename": "RuntimeError",
     "evalue": "expected stride to be a single integer value or a list of 1 values to match the convolution dimensions, but got stride=[17, 17]",
     "output_type": "error",
     "traceback": [
      "\u001b[0;31m---------------------------------------------------------------------------\u001b[0m",
      "\u001b[0;31mRuntimeError\u001b[0m                              Traceback (most recent call last)",
      "Cell \u001b[0;32mIn[21], line 13\u001b[0m\n\u001b[1;32m     11\u001b[0m     weight \u001b[38;5;241m=\u001b[39m nfm(grad\u001b[38;5;241m.\u001b[39mmean(\u001b[38;5;241m0\u001b[39m, keepdim\u001b[38;5;241m=\u001b[39m\u001b[38;5;28;01mTrue\u001b[39;00m)\u001b[38;5;241m.\u001b[39msqueeze(\u001b[38;5;241m0\u001b[39m))\u001b[38;5;241m.\u001b[39munsqueeze(\u001b[38;5;241m0\u001b[39m)\n\u001b[1;32m     12\u001b[0m stride \u001b[38;5;241m=\u001b[39m weight\u001b[38;5;241m.\u001b[39msize(\u001b[38;5;241m-\u001b[39m\u001b[38;5;241m1\u001b[39m) \u001b[38;5;241m/\u001b[39m\u001b[38;5;241m/\u001b[39m \u001b[38;5;241m4\u001b[39m\n\u001b[0;32m---> 13\u001b[0m output \u001b[38;5;241m=\u001b[39m \u001b[43mF\u001b[49m\u001b[38;5;241;43m.\u001b[39;49m\u001b[43mconv2d\u001b[49m\u001b[43m(\u001b[49m\u001b[43minput_data\u001b[49m\u001b[43m,\u001b[49m\u001b[43m \u001b[49m\u001b[43mweight\u001b[49m\u001b[43m,\u001b[49m\u001b[43m \u001b[49m\u001b[43mstride\u001b[49m\u001b[38;5;241;43m=\u001b[39;49m\u001b[43mstride\u001b[49m\u001b[43m \u001b[49m\u001b[38;5;241;43m+\u001b[39;49m\u001b[43m \u001b[49m\u001b[38;5;241;43m1\u001b[39;49m\u001b[43m,\u001b[49m\u001b[43m \u001b[49m\u001b[43mpadding\u001b[49m\u001b[38;5;241;43m=\u001b[39;49m\u001b[38;5;241;43m0\u001b[39;49m\u001b[43m)\u001b[49m\n\u001b[1;32m     14\u001b[0m \u001b[38;5;28mprint\u001b[39m(output\u001b[38;5;241m.\u001b[39mshape)\n\u001b[1;32m     15\u001b[0m input_data \u001b[38;5;241m=\u001b[39m output\n",
      "\u001b[0;31mRuntimeError\u001b[0m: expected stride to be a single integer value or a list of 1 values to match the convolution dimensions, but got stride=[17, 17]"
     ]
    }
   ],
   "source": [
    "import torch.nn.functional as F\n",
    "\n",
    "agop_list = []\n",
    "\n",
    "counter = 0\n",
    "input_data = image\n",
    "for _, grad in grad_dict.items():\n",
    "    if counter == 0:\n",
    "        weight = nfm(grad.mean(0, keepdim=True).squeeze(0)).unsqueeze(0).repeat(1, 3, 1, 1)\n",
    "\n",
    "    else:\n",
    "        weight = nfm(grad.mean(0, keepdim=True).squeeze(0)).unsqueeze(0)"
   ]
  },
  {
   "cell_type": "code",
   "execution_count": 4,
   "id": "ec1dbcfa-eac7-44a8-a93d-da83db71548e",
   "metadata": {},
   "outputs": [
    {
     "ename": "NameError",
     "evalue": "name 'nfm1' is not defined",
     "output_type": "error",
     "traceback": [
      "\u001b[0;31m---------------------------------------------------------------------------\u001b[0m",
      "\u001b[0;31mNameError\u001b[0m                                 Traceback (most recent call last)",
      "Cell \u001b[0;32mIn[4], line 6\u001b[0m\n\u001b[1;32m      4\u001b[0m plt\u001b[38;5;241m.\u001b[39mfigure(figsize\u001b[38;5;241m=\u001b[39mfigsize)\n\u001b[1;32m      5\u001b[0m plt\u001b[38;5;241m.\u001b[39msubplot(\u001b[38;5;241m1\u001b[39m, \u001b[38;5;241m2\u001b[39m, \u001b[38;5;241m1\u001b[39m)\n\u001b[0;32m----> 6\u001b[0m plt\u001b[38;5;241m.\u001b[39mimshow(\u001b[43mnfm1\u001b[49m\u001b[38;5;241m.\u001b[39mdetach()\u001b[38;5;241m.\u001b[39mnumpy())\n\u001b[1;32m      7\u001b[0m plt\u001b[38;5;241m.\u001b[39mtitle(\u001b[38;5;124m'\u001b[39m\u001b[38;5;124mNFM Convolution of Logit Layer\u001b[39m\u001b[38;5;124m'\u001b[39m)\n\u001b[1;32m      9\u001b[0m plt\u001b[38;5;241m.\u001b[39msubplot(\u001b[38;5;241m1\u001b[39m, \u001b[38;5;241m2\u001b[39m, \u001b[38;5;241m2\u001b[39m)\n",
      "\u001b[0;31mNameError\u001b[0m: name 'nfm1' is not defined"
     ]
    },
    {
     "data": {
      "image/png": "[encoded data removed]",
      "text/plain": [
       "<Figure size 1000x600 with 1 Axes>"
      ]
     },
     "metadata": {},
     "output_type": "display_data"
    }
   ],
   "source": [
    "import matplotlib.pyplot as plt\n",
    "\n",
    "figsize=(10, 6)\n",
    "plt.figure(figsize=figsize)\n",
    "plt.subplot(1, 2, 1)\n",
    "plt.imshow(nfm1.detach().numpy())\n",
    "plt.title('NFM Convolution of Logit Layer')\n",
    "\n",
    "plt.subplot(1, 2, 2)\n",
    "plt.imshow(agop1.detach().numpy())\n",
    "plt.title('AGOP Convolution of Logit Layer')"
   ]
  },
  {
   "cell_type": "code",
   "execution_count": null,
   "id": "c50ff091-9e80-4302-a798-c9fa8bde3e79",
   "metadata": {},
   "outputs": [],
   "source": []
  }
 ],
 "metadata": {
  "kernelspec": {
   "display_name": "Python 3 (ipykernel)",
   "language": "python",
   "name": "python3"
  },
  "language_info": {
   "codemirror_mode": {
    "name": "ipython",
    "version": 3
   },
   "file_extension": ".py",
   "mimetype": "text/x-python",
   "name": "python",
   "nbconvert_exporter": "python",
   "pygments_lexer": "ipython3",
   "version": "3.12.6"
  }
 },
 "nbformat": 4,
 "nbformat_minor": 5
}
